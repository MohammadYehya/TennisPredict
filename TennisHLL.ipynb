{
  "cells": [
    {
      "cell_type": "code",
      "execution_count": null,
      "metadata": {
        "id": "kCwaOIoG24te"
      },
      "outputs": [],
      "source": [
        "import pandas as pd\n",
        "from datasketch import HyperLogLog\n",
        "import time"
      ]
    },
    {
      "cell_type": "code",
      "execution_count": 3,
      "metadata": {
        "id": "XIOe5r-q03AS"
      },
      "outputs": [],
      "source": [
        "def HLLAlgo(csvfile, col):\n",
        "  df = pd.read_csv(csvfile, usecols=[col])\n",
        "  hll = HyperLogLog(p=14)  # p = precision (higher = more accurate but more memory)\n",
        "\n",
        "  start = time.time()\n",
        "\n",
        "  for user_id in df[col]:\n",
        "      hll.update(str(user_id).encode('utf8'))\n",
        "\n",
        "  end = time.time()\n",
        "\n",
        "  print(\"Estimated Unique Users:\", int(hll.count()))\n",
        "  print(\"Processing Time: %.2f seconds\" % (end - start))\n",
        "\n",
        "  actual_count = df[col].nunique()\n",
        "  print(\"Actual Unique Users:\", actual_count)\n",
        "\n",
        "  print(\"Error Rate: {:.2f}%\".format(100 * abs(actual_count - hll.count()) / actual_count))"
      ]
    },
    {
      "cell_type": "code",
      "execution_count": 13,
      "metadata": {
        "colab": {
          "base_uri": "https://localhost:8080/"
        },
        "id": "8tsMFGuO3IYL",
        "outputId": "0620d6b3-1ba4-4b45-d312-442708707e7e"
      },
      "outputs": [
        {
          "name": "stdout",
          "output_type": "stream",
          "text": [
            "Estimated Unique Users: 66416\n",
            "Processing Time: 0.15 seconds\n",
            "Actual Unique Users: 65989\n",
            "Error Rate: 0.65%\n"
          ]
        }
      ],
      "source": [
        "HLLAlgo(csvfile = \"./data/atp_players.csv\", col = \"player_id\")"
      ]
    },
    {
      "cell_type": "code",
      "execution_count": 14,
      "metadata": {
        "colab": {
          "base_uri": "https://localhost:8080/"
        },
        "id": "Y80z4qeS3FV4",
        "outputId": "17af9556-c9b7-4756-ec16-ef169069b5ab"
      },
      "outputs": [
        {
          "name": "stdout",
          "output_type": "stream",
          "text": [
            "Estimated Unique Users: 574\n",
            "Processing Time: 0.23 seconds\n",
            "Actual Unique Users: 577\n",
            "Error Rate: 0.35%\n"
          ]
        }
      ],
      "source": [
        "HLLAlgo(csvfile = \"./data/0cleanDataset.csv\", col = \"match_num\")"
      ]
    }
  ],
  "metadata": {
    "colab": {
      "provenance": []
    },
    "kernelspec": {
      "display_name": "Python 3",
      "name": "python3"
    },
    "language_info": {
      "name": "python"
    }
  },
  "nbformat": 4,
  "nbformat_minor": 0
}
